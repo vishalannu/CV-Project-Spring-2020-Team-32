{
 "cells": [
  {
   "cell_type": "code",
   "execution_count": 14,
   "metadata": {},
   "outputs": [],
   "source": [
    "import cv2"
   ]
  },
  {
   "cell_type": "code",
   "execution_count": 28,
   "metadata": {},
   "outputs": [],
   "source": [
    "def generating_frames(input_video,out_folder,img_name):\n",
    "    inp = cv2.VideoCapture(input_video)\n",
    "    j = 1\n",
    "    while True :\n",
    "        ret, frame = inp.read()\n",
    "        if not ret:\n",
    "            break\n",
    "        cv2.imwrite(out_folder+img_name +str(j).zfill(5)+'.jpg',frame)\n",
    "        j=j+1\n",
    "#         num+=1\n",
    "    inp.release()\n",
    "    cv2.destroyAllWindows()"
   ]
  },
  {
   "cell_type": "code",
   "execution_count": 32,
   "metadata": {},
   "outputs": [],
   "source": [
    "def main():\n",
    "    input_video = './input/BBT_S1_ep1.avi'\n",
    "    out_folder = './frames_generated/'\n",
    "    img_name = 'episode_'\n",
    "#     generating_frames(input_video,'./frames_generated/',img_name)\n",
    "    generating_frames(input_video,out_folder,img_name)"
   ]
  },
  {
   "cell_type": "code",
   "execution_count": 35,
   "metadata": {},
   "outputs": [],
   "source": [
    "if __name__ == '__main__':\n",
    "    main()"
   ]
  },
  {
   "cell_type": "code",
   "execution_count": null,
   "metadata": {},
   "outputs": [],
   "source": []
  }
 ],
 "metadata": {
  "kernelspec": {
   "display_name": "Python 3",
   "language": "python",
   "name": "python3"
  },
  "language_info": {
   "codemirror_mode": {
    "name": "ipython",
    "version": 3
   },
   "file_extension": ".py",
   "mimetype": "text/x-python",
   "name": "python",
   "nbconvert_exporter": "python",
   "pygments_lexer": "ipython3",
   "version": "3.5.2"
  }
 },
 "nbformat": 4,
 "nbformat_minor": 4
}
